{
 "cells": [
  {
   "cell_type": "markdown",
   "metadata": {},
   "source": [
    "# # Assignment\n",
    "   You all are a pilots, you want to land a plane safely, So WAP to take current altitude as input and check weather the altitudeis less then 100ft to land the plane, or more than 1000ft, and if it's less then 5000ft ask pilot to bring if further down to 1000ftand if it is more then 5000ft then ask pilot to turn around and attempt later."
   ]
  },
  {
   "cell_type": "code",
   "execution_count": 1,
   "metadata": {},
   "outputs": [
    {
     "name": "stdout",
     "output_type": "stream",
     "text": [
      "enter the altitude:\t650\n",
      "Safe to land\n"
     ]
    }
   ],
   "source": [
    "altitude=input(\"enter the altitude:\\t\")\n",
    "altitude=int(altitude)\n",
    "if (altitude<=1000):\n",
    "   print(\"Safe to land\")\n",
    "elif (altitude<=5000):\n",
    "   print(\"bring down to 1000\")\n",
    "else :\n",
    "   print(\"turn around\")"
   ]
  },
  {
   "cell_type": "code",
   "execution_count": 2,
   "metadata": {},
   "outputs": [
    {
     "name": "stdout",
     "output_type": "stream",
     "text": [
      "enter the altitude:\t4500\n",
      "bring down to 1000\n"
     ]
    }
   ],
   "source": [
    "altitude=input(\"enter the altitude:\\t\")\n",
    "altitude=int(altitude)\n",
    "if (altitude<=1000):\n",
    "   print(\"Safe to land\")\n",
    "elif (altitude<=5000):\n",
    "   print(\"bring down to 1000\")\n",
    "else :\n",
    "   print(\"turn around\")"
   ]
  },
  {
   "cell_type": "code",
   "execution_count": 3,
   "metadata": {},
   "outputs": [
    {
     "name": "stdout",
     "output_type": "stream",
     "text": [
      "enter the altitude:\t6500\n",
      "turn around\n"
     ]
    }
   ],
   "source": [
    "altitude=input(\"enter the altitude:\\t\")\n",
    "altitude=int(altitude)\n",
    "if (altitude<=1000):\n",
    "   print(\"Safe to land\")\n",
    "elif (altitude<=5000):\n",
    "   print(\"bring down to 1000\")\n",
    "else :\n",
    "   print(\"turn around\")"
   ]
  },
  {
   "cell_type": "code",
   "execution_count": null,
   "metadata": {},
   "outputs": [],
   "source": []
  }
 ],
 "metadata": {
  "kernelspec": {
   "display_name": "Python 3",
   "language": "python",
   "name": "python3"
  },
  "language_info": {
   "codemirror_mode": {
    "name": "ipython",
    "version": 3
   },
   "file_extension": ".py",
   "mimetype": "text/x-python",
   "name": "python",
   "nbconvert_exporter": "python",
   "pygments_lexer": "ipython3",
   "version": "3.8.3"
  }
 },
 "nbformat": 4,
 "nbformat_minor": 4
}
