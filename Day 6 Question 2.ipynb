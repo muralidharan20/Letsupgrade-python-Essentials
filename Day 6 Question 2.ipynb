{
 "cells": [
  {
   "cell_type": "markdown",
   "metadata": {},
   "source": [
    "# Question 2\n",
    "Area of cone"
   ]
  },
  {
   "cell_type": "code",
   "execution_count": 1,
   "metadata": {},
   "outputs": [
    {
     "name": "stdout",
     "output_type": "stream",
     "text": [
      "enter the raduis:25\n",
      "enter the height:18\n",
      "Volume Of Cone :  11780.972450961724\n",
      "Surface Area Of Cone :  2984.5130209103036\n"
     ]
    }
   ],
   "source": [
    "import math \n",
    "pi = math.pi \n",
    "def volume(r, h): \n",
    "    return (1 / 3) * pi * r * r * h \n",
    "def surfacearea(r, s): \n",
    "    return pi * r * s + pi * r * r \n",
    "radius = float(input(\"enter the raduis:\"))\n",
    "height = float(input(\"enter the height:\")) \n",
    "slat_height = float(13) \n",
    "print( \"Volume Of Cone : \", volume(radius, height) ) \n",
    "print( \"Surface Area Of Cone : \", surfacearea(radius, slat_height) )"
   ]
  },
  {
   "cell_type": "code",
   "execution_count": null,
   "metadata": {},
   "outputs": [],
   "source": []
  }
 ],
 "metadata": {
  "kernelspec": {
   "display_name": "Python 3",
   "language": "python",
   "name": "python3"
  },
  "language_info": {
   "codemirror_mode": {
    "name": "ipython",
    "version": 3
   },
   "file_extension": ".py",
   "mimetype": "text/x-python",
   "name": "python",
   "nbconvert_exporter": "python",
   "pygments_lexer": "ipython3",
   "version": "3.8.3"
  }
 },
 "nbformat": 4,
 "nbformat_minor": 4
}
