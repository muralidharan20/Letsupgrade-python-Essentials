{
 "cells": [
  {
   "cell_type": "markdown",
   "metadata": {},
   "source": [
    "# Question 2\n",
    "Exception Handling"
   ]
  },
  {
   "cell_type": "code",
   "execution_count": 3,
   "metadata": {},
   "outputs": [
    {
     "name": "stdout",
     "output_type": "stream",
     "text": [
      "Writing readonly.txt\n"
     ]
    }
   ],
   "source": [
    "%%writefile readonly.txt\n",
    "\n",
    "hai im murali\n",
    "i am frm trichy"
   ]
  },
  {
   "cell_type": "code",
   "execution_count": 4,
   "metadata": {},
   "outputs": [
    {
     "name": "stdout",
     "output_type": "stream",
     "text": [
      "Only for read\n",
      "error messeage: not writable\n"
     ]
    }
   ],
   "source": [
    "try:\n",
    "    file=open(\"readonly.txt\",\"r\")\n",
    "    file.write(\"It's me Murali\")\n",
    "    print(\"successfully done\")\n",
    "except Exception as e:\n",
    "    print(\"Only for read\")\n",
    "    print(\"error messeage:\",e)"
   ]
  },
  {
   "cell_type": "code",
   "execution_count": null,
   "metadata": {},
   "outputs": [],
   "source": []
  }
 ],
 "metadata": {
  "kernelspec": {
   "display_name": "Python 3",
   "language": "python",
   "name": "python3"
  },
  "language_info": {
   "codemirror_mode": {
    "name": "ipython",
    "version": 3
   },
   "file_extension": ".py",
   "mimetype": "text/x-python",
   "name": "python",
   "nbconvert_exporter": "python",
   "pygments_lexer": "ipython3",
   "version": "3.8.3"
  }
 },
 "nbformat": 4,
 "nbformat_minor": 4
}
