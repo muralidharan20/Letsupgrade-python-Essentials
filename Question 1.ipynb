{
 "cells": [
  {
   "cell_type": "markdown",
   "metadata": {},
   "source": [
    "# Question 1"
   ]
  },
  {
   "cell_type": "code",
   "execution_count": 1,
   "metadata": {},
   "outputs": [
    {
     "name": "stdout",
     "output_type": "stream",
     "text": [
      "Hello!!! Welcome to the Deposit & Withdrawal Machine\n",
      "Enter amount to be Deposited: 1500\n",
      "\n",
      " Amount Deposited: 1500.0\n",
      "Enter amount to be Withdrawn: 800\n",
      "\n",
      " You Withdrew: 800.0\n",
      "\n",
      " Net Available Balance= 700.0\n"
     ]
    }
   ],
   "source": [
    "class Bankaccount: \n",
    "    def __init__(self): \n",
    "        def deposit(self): \n",
    "            amount = float(input(\"Enter amount to be deposited: \")) \n",
    "            self.balance += amount \n",
    "            print(\"\\n Amount Deposited:\", amount) \n",
    "        def withdraw(self): \n",
    "            amount = float(input(\"Enter amount to be withdrawn: \")) \n",
    "            if self.balance >= amount: \n",
    "                self.balance -= amount \n",
    "                print(\"\\n You Withdrew:\", amount) \n",
    "            else: \n",
    "                print(\"\\n Insufficient balance  \") \n",
    "        def display(self): \n",
    "            print(\"\\n Net Available Balance =\", self.balance) \n",
    "class Bank_Account: \n",
    "    def __init__(self): \n",
    "        self.balance=0\n",
    "        print(\"Hello!!! Welcome to the Deposit & Withdrawal Machine\") \n",
    "  \n",
    "    def deposit(self): \n",
    "        amount=float(input(\"Enter amount to be Deposited: \")) \n",
    "        self.balance += amount \n",
    "        print(\"\\n Amount Deposited:\",amount) \n",
    "  \n",
    "    def withdraw(self): \n",
    "        amount = float(input(\"Enter amount to be Withdrawn: \")) \n",
    "        if self.balance>=amount: \n",
    "            self.balance-=amount \n",
    "            print(\"\\n You Withdrew:\", amount) \n",
    "        else: \n",
    "            print(\"\\n Insufficient balance  \") \n",
    "  \n",
    "    def display(self): \n",
    "        print(\"\\n Net Available Balance=\",self.balance)  \n",
    "s = Bank_Account() \n",
    "s.deposit() \n",
    "s.withdraw() \n",
    "s.display() "
   ]
  },
  {
   "cell_type": "code",
   "execution_count": null,
   "metadata": {},
   "outputs": [],
   "source": []
  }
 ],
 "metadata": {
  "kernelspec": {
   "display_name": "Python 3",
   "language": "python",
   "name": "python3"
  },
  "language_info": {
   "codemirror_mode": {
    "name": "ipython",
    "version": 3
   },
   "file_extension": ".py",
   "mimetype": "text/x-python",
   "name": "python",
   "nbconvert_exporter": "python",
   "pygments_lexer": "ipython3",
   "version": "3.8.3"
  }
 },
 "nbformat": 4,
 "nbformat_minor": 4
}
